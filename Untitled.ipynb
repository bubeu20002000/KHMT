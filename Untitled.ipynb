{
 "cells": [
  {
   "cell_type": "code",
   "execution_count": 1,
   "id": "f7e30fa7",
   "metadata": {},
   "outputs": [
    {
     "name": "stdout",
     "output_type": "stream",
     "text": [
      "helloworld\n"
     ]
    }
   ],
   "source": [
    "print('helloworld')"
   ]
  },
  {
   "cell_type": "code",
   "execution_count": 2,
   "id": "3e0671d3",
   "metadata": {},
   "outputs": [],
   "source": [
    "# Importing the modules for collecting and building the dataset\n",
    "import time\n",
    "import os\n",
    "import re\n",
    "\n",
    "# Web-scraping...\n",
    "from urllib.request import Request, urlopen\n",
    "from urllib.request import URLError, HTTPError"
   ]
  },
  {
   "cell_type": "code",
   "execution_count": 3,
   "id": "3731544f",
   "metadata": {},
   "outputs": [],
   "source": [
    "cars = ['Alfa Romeo', 'Audi', 'BMW', 'Chevrolet', 'Citroen', 'Dacia', 'Daewoo', 'Dodge',\n",
    "        'Ferrari', 'Fiat', 'Ford', 'Honda', 'Hyundai', 'Jaguar', 'Jeep', 'Kia', 'Lada',\n",
    "        'Lancia', 'Land Rover', 'Lexus', 'Maserati', 'Mazda', 'Mercedes', 'Mitsubishi',\n",
    "        'Nissan', 'Opel', 'Peugeot', 'Porsche', 'Renault', 'Rover', 'Saab', 'Seat',\n",
    "        'Skoda', 'Subaru', 'Suzuki', 'Tata', 'Tesla', 'Toyota', 'Volkswagen', 'Volvo']\n",
    "\n",
    "kwrds = ['logo', 'logotype', 'logo png', 'logo gif', 'logo jpg', 'logo front',\n",
    "         'logo rear', 'badge', 'logo white', 'logo black', 'logo transparent']"
   ]
  },
  {
   "cell_type": "code",
   "execution_count": 4,
   "id": "88598ba1",
   "metadata": {},
   "outputs": [
    {
     "ename": "KeyboardInterrupt",
     "evalue": "",
     "output_type": "error",
     "traceback": [
      "\u001b[1;31m---------------------------------------------------------------------------\u001b[0m",
      "\u001b[1;31mKeyboardInterrupt\u001b[0m                         Traceback (most recent call last)",
      "\u001b[1;32m~\\AppData\\Local\\Temp/ipykernel_1356/49784212.py\u001b[0m in \u001b[0;36m<module>\u001b[1;34m\u001b[0m\n\u001b[0;32m     41\u001b[0m         \u001b[0mraw\u001b[0m \u001b[1;33m=\u001b[0m  \u001b[0mscrape\u001b[0m\u001b[1;33m(\u001b[0m\u001b[0murl\u001b[0m\u001b[1;33m)\u001b[0m\u001b[1;33m\u001b[0m\u001b[1;33m\u001b[0m\u001b[0m\n\u001b[0;32m     42\u001b[0m         \u001b[0mtime\u001b[0m\u001b[1;33m.\u001b[0m\u001b[0msleep\u001b[0m\u001b[1;33m(\u001b[0m\u001b[1;36m0.1\u001b[0m\u001b[1;33m)\u001b[0m\u001b[1;33m\u001b[0m\u001b[1;33m\u001b[0m\u001b[0m\n\u001b[1;32m---> 43\u001b[1;33m         \u001b[0mitems\u001b[0m \u001b[1;33m=\u001b[0m \u001b[0mitems\u001b[0m \u001b[1;33m+\u001b[0m \u001b[1;33m(\u001b[0m\u001b[0mget_all_logos\u001b[0m\u001b[1;33m(\u001b[0m\u001b[0mraw\u001b[0m\u001b[1;33m)\u001b[0m\u001b[1;33m)\u001b[0m\u001b[1;33m\u001b[0m\u001b[1;33m\u001b[0m\u001b[0m\n\u001b[0m\u001b[0;32m     44\u001b[0m         \u001b[0mj\u001b[0m\u001b[1;33m+=\u001b[0m\u001b[1;36m1\u001b[0m\u001b[1;33m\u001b[0m\u001b[1;33m\u001b[0m\u001b[0m\n\u001b[0;32m     45\u001b[0m \u001b[1;33m\u001b[0m\u001b[0m\n",
      "\u001b[1;32m~\\AppData\\Local\\Temp/ipykernel_1356/49784212.py\u001b[0m in \u001b[0;36mget_all_logos\u001b[1;34m(page)\u001b[0m\n\u001b[0;32m     23\u001b[0m         \u001b[1;32melse\u001b[0m\u001b[1;33m:\u001b[0m\u001b[1;33m\u001b[0m\u001b[1;33m\u001b[0m\u001b[0m\n\u001b[0;32m     24\u001b[0m             \u001b[0mitems\u001b[0m\u001b[1;33m.\u001b[0m\u001b[0mappend\u001b[0m\u001b[1;33m(\u001b[0m\u001b[0mitem\u001b[0m\u001b[1;33m)\u001b[0m\u001b[1;33m\u001b[0m\u001b[1;33m\u001b[0m\u001b[0m\n\u001b[1;32m---> 25\u001b[1;33m             \u001b[0mtime\u001b[0m\u001b[1;33m.\u001b[0m\u001b[0msleep\u001b[0m\u001b[1;33m(\u001b[0m\u001b[1;36m0.1\u001b[0m\u001b[1;33m)\u001b[0m\u001b[1;33m\u001b[0m\u001b[1;33m\u001b[0m\u001b[0m\n\u001b[0m\u001b[0;32m     26\u001b[0m             \u001b[0mpage\u001b[0m \u001b[1;33m=\u001b[0m \u001b[0mpage\u001b[0m\u001b[1;33m[\u001b[0m\u001b[0mp\u001b[0m\u001b[1;33m:\u001b[0m\u001b[1;33m]\u001b[0m\u001b[1;33m\u001b[0m\u001b[1;33m\u001b[0m\u001b[0m\n\u001b[0;32m     27\u001b[0m     \u001b[1;32mreturn\u001b[0m \u001b[0mitems\u001b[0m\u001b[1;33m\u001b[0m\u001b[1;33m\u001b[0m\u001b[0m\n",
      "\u001b[1;31mKeyboardInterrupt\u001b[0m: "
     ]
    }
   ],
   "source": [
    "def scrape(link):\n",
    "    try:\n",
    "        headers = {}\n",
    "        headers['User-Agent'] = \"Mozilla/5.0 (Windows NT 6.1) AppleWebKit/537.36 (KHTML, like Gecko) Chrome/41.0.2228.0 Safari/537.36\"\n",
    "        return str(urlopen(Request(link, headers = headers)).read())\n",
    "    except Exception as e:\n",
    "        print(str(e))\n",
    "\n",
    "# function that will get the url of the image to download\n",
    "def get_logo(l):\n",
    "    line = l.find('\"class=\"rg_meta\"')\n",
    "    start = l.find('\"ou\"', line + 1)\n",
    "    end = l.find(',\"ow\"', start + 1)\n",
    "    raw = str(l[start + 6:end - 1])\n",
    "    return raw, end\n",
    "\n",
    "def get_all_logos(page):\n",
    "    items = []\n",
    "    while True:\n",
    "        item, p = get_logo(page)\n",
    "        if item == \"no_links\":\n",
    "            break\n",
    "        else:\n",
    "            items.append(item)\n",
    "            time.sleep(0.1)\n",
    "            page = page[p:]\n",
    "    return items\n",
    "\n",
    "# Beginning the download\n",
    "i = 0\n",
    "while i < len(cars):\n",
    "    \n",
    "    items = []\n",
    "    car = cars[i].replace(' ', '%20')\n",
    "    os.makedirs(cars[i])\n",
    "    \n",
    "    j = 0\n",
    "    while j < len(kwrds):\n",
    "        search_term = kwrds[j].replace(' ','%20')\n",
    "        url = 'https://www.google.com/search?q=' + car + search_term + '&espv=2&biw=1366&bih=667&site=webhp&source=lnms&tbm=isch&sa=X&ei=XosDVaCXD8TasATItgE&ved=0CAcQ_AUoAg'\n",
    "        raw =  scrape(url)\n",
    "        time.sleep(0.1)\n",
    "        items = items + (get_all_logos(raw))\n",
    "        j+=1\n",
    "\n",
    "    k = 0\n",
    "    while k < len(items):\n",
    "        try:\n",
    "            req = Request(items[k], headers={\"User-Agent\": \"Mozilla/5.0 (X11; Linux i686) AppleWebKit/537.17 (KHTML, like Gecko) Chrome/24.0.1312.27 Safari/537.17\"})\n",
    "            response = urlopen(req,None,15) # specyfing the timeout (Google often has problems with images)\n",
    "            output_file = open(cars[i] + \"/\" + str(k+1) + '.jpg','wb')\n",
    "            output_file.write(response.read())\n",
    "            response.close();\n",
    "            k+=1\n",
    "        except:\n",
    "            print(\"Error!\")\n",
    "            k+=1\n",
    "    i+=1\n",
    "\n",
    "print(\"Done. Files downloaded. Happy handpicking!\")"
   ]
  },
  {
   "cell_type": "code",
   "execution_count": null,
   "id": "3f06f76c",
   "metadata": {},
   "outputs": [],
   "source": []
  }
 ],
 "metadata": {
  "kernelspec": {
   "display_name": "Python 3 (ipykernel)",
   "language": "python",
   "name": "python3"
  },
  "language_info": {
   "codemirror_mode": {
    "name": "ipython",
    "version": 3
   },
   "file_extension": ".py",
   "mimetype": "text/x-python",
   "name": "python",
   "nbconvert_exporter": "python",
   "pygments_lexer": "ipython3",
   "version": "3.9.5"
  }
 },
 "nbformat": 4,
 "nbformat_minor": 5
}
